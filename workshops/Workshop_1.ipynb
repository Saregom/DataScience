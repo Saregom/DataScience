{
 "cells": [
  {
   "cell_type": "markdown",
   "metadata": {},
   "source": [
    "# Workshop 1\n",
    "\n",
    "Here you're gonna test your __data scientist junior__ skills. Read carefully each one of the problems, write your own test cases, and validate everything works as expected."
   ]
  },
  {
   "cell_type": "markdown",
   "metadata": {},
   "source": [
    "## 1. Regular Expressions\n",
    "\n",
    "As follows complete the code based on the __requirement__. There is a part `#YOUR CODE HERE` where you _should complete_ to accomplish the task. However, you _could_ change anything you want."
   ]
  },
  {
   "cell_type": "markdown",
   "metadata": {},
   "source": [
    "### Problem 1.1\n",
    "\n",
    "Find a list of all of all of the names in the following string using _regex_."
   ]
  },
  {
   "cell_type": "code",
   "execution_count": 2,
   "metadata": {},
   "outputs": [
    {
     "data": {
      "text/plain": [
       "['Amy', 'Mary', 'Ruth', 'Peter']"
      ]
     },
     "execution_count": 2,
     "metadata": {},
     "output_type": "execute_result"
    }
   ],
   "source": [
    "import re\n",
    "def names():\n",
    "    simple_string = \"\"\"Amy is 5 years old, and her sister Mary is 2 years old. \n",
    "    Ruth and Peter, their parents, have 3 kids.\"\"\"\n",
    "\n",
    "    pattern = r'\\b[A-Z]\\w+'\n",
    "    \n",
    "    return re.findall(pattern, simple_string) \n",
    "\n",
    "names()"
   ]
  },
  {
   "cell_type": "code",
   "execution_count": 3,
   "metadata": {},
   "outputs": [],
   "source": [
    "# example of test case\n",
    "assert len(names()) == 4, \"There are four names in the simple_string.\""
   ]
  },
  {
   "cell_type": "markdown",
   "metadata": {},
   "source": [
    "### Problem 1.2\n",
    "\n",
    "The _dataset file_ in [assets/grades.txt](./assets/grades.txt) contains a line separated _list of people_ with their __grade__ in a class. Create a _regex_ to generate a list of just those students who received a __B__ in the course."
   ]
  },
  {
   "cell_type": "code",
   "execution_count": 4,
   "metadata": {},
   "outputs": [
    {
     "data": {
      "text/plain": [
       "['Bell Kassulke',\n",
       " 'Simon Loidl',\n",
       " 'Elias Jovanovic',\n",
       " 'Hakim Botros',\n",
       " 'Emilie Lorentsen',\n",
       " 'Jake Wood',\n",
       " 'Fatemeh Akhtar',\n",
       " 'Kim Weston',\n",
       " 'Yasmin Dar',\n",
       " 'Viswamitra Upandhye',\n",
       " 'Killian Kaufman',\n",
       " 'Elwood Page',\n",
       " 'Elodie Booker',\n",
       " 'Adnan Chen',\n",
       " 'Hank Spinka',\n",
       " 'Hannah Bayer']"
      ]
     },
     "execution_count": 4,
     "metadata": {},
     "output_type": "execute_result"
    }
   ],
   "source": [
    "import re\n",
    "\n",
    "\n",
    "def grades():\n",
    "    with open(\"assets/grades.txt\", \"r\") as file:\n",
    "        grades = file.read()\n",
    "\n",
    "    students = re.findall(r'(\\b[A-Z]\\w+\\s\\b[A-Z]\\w+): B', grades)\n",
    "\n",
    "    return students\n",
    "\n",
    "grades()"
   ]
  },
  {
   "cell_type": "code",
   "execution_count": 5,
   "metadata": {},
   "outputs": [],
   "source": [
    "# example of test case\n",
    "assert len(grades()) == 16"
   ]
  },
  {
   "cell_type": "markdown",
   "metadata": {},
   "source": [
    "### Problem 1.3\n",
    "\n",
    "Consider the standard _web log file_ in [assets/logdata.txt](./assets/logdata.txt). This _file_ records the _access_ a user makes when visiting a web page. Each __line of the log__ has the following _items_:\n",
    "\n",
    "- a __host__ (e.g., `146.204.224.152`)\n",
    "- a __user_name__ (e.g., `feest6811`. _Hint:_ sometimes the user name is missing! In this case, use `-` as the value for the username.)\n",
    "- the __time__ a request was made (e.g., `21/Jun/2019:15:45:24 -0700`)\n",
    "- the post __request type__ (e.g., `POST /incentivize HTTP/1.1`. _Note:_ not everything is a POST!)\n",
    "\n",
    "Your task is to convert this into a list of dictionaries, where each dictionary looks like the following:\n",
    "\n",
    "```python\n",
    "example_dict = {\"host\":\"146.204.224.152\", \n",
    "                \"user_name\":\"feest6811\", \n",
    "                \"time\":\"21/Jun/2019:15:45:24 -0700\",\n",
    "                \"request\":\"POST /incentivize HTTP/1.1\"}\n",
    "```"
   ]
  },
  {
   "cell_type": "code",
   "execution_count": 6,
   "metadata": {},
   "outputs": [],
   "source": [
    "import re\n",
    "\n",
    "def format_log_data(log_data: str) -> list:\n",
    "    formated_log_data = {}\n",
    "    if log_data != \"\":\n",
    "        formated_log_data = {\n",
    "            \"host\": re.findall(r'\\d+.\\d+.\\d+.\\d+', log_data)[0],\n",
    "            \"user_name\": re.findall(r'-\\s(-*\\w*)', log_data)[0],\n",
    "            \"time\": re.findall(r'\\[(.*)\\]', log_data)[0],\n",
    "            \"request\": re.findall(r'\"(.*)\"', log_data)[0]\n",
    "        }\n",
    "\n",
    "    return formated_log_data\n",
    "\n",
    "def logs():\n",
    "    with open(\"assets/logdata.txt\", \"r\") as file:\n",
    "        logdata = file.read()\n",
    "\n",
    "    actions = re.split(r\"\\n\", logdata)\n",
    "    logs_list = list(map(format_log_data, actions))\n",
    "\n",
    "    return logs_list"
   ]
  },
  {
   "cell_type": "code",
   "execution_count": 7,
   "metadata": {},
   "outputs": [],
   "source": [
    "# example of test case\n",
    "one_item = {\n",
    "    \"host\": \"146.204.224.152\",\n",
    "    \"user_name\": \"feest6811\",\n",
    "    \"time\": \"21/Jun/2019:15:45:24 -0700\",\n",
    "    \"request\": \"POST /incentivize HTTP/1.1\",\n",
    "}\n",
    "assert (\n",
    "    one_item in logs()\n",
    "), \"Sorry, this item should be in the log results, check your formating\""
   ]
  },
  {
   "cell_type": "markdown",
   "metadata": {},
   "source": [
    "# 2. Descriptive Analysis\n",
    "\n",
    "For this section, you'll be looking at _2017 data on immunizations_ from the _CDC_. Your _datafile_ for next tasks is in [assets/NISPUF17.csv](./assets/NISPUF17.csv). A _data users guide_ for this, which you'll need to map the variables in the data to the questions being asked, is available at [assets/NIS-PUF17-DUG.pdf](./assets/NIS-PUF17-DUG.pdf)."
   ]
  },
  {
   "cell_type": "markdown",
   "metadata": {},
   "source": [
    "# Problem 2.1\n",
    "\n",
    "Write a function called _proportion\\_of\\_education_ which returns the proportion of __children__ in the dataset who had a mother with the education levels equal to less than high school ($<12$), high school ($12$), more than high school but not a college graduate ($>12$) and _college degree_.\n",
    "\n",
    "This _function_ should return a __dictionary__ in the form of (use the _correct numbers_, do not round numbers):\n",
    "\n",
    "```python\n",
    "{\n",
    "    \"less than high school\": 0.2,\n",
    "    \"high school\": 0.4,\n",
    "    \"more than high school but not college\": 0.2,\n",
    "    \"college\": 0.2\n",
    "}\n",
    "```"
   ]
  },
  {
   "cell_type": "code",
   "execution_count": 8,
   "metadata": {},
   "outputs": [
    {
     "data": {
      "text/plain": [
       "{'less than high school': np.float64(0.10202002459160373),\n",
       " 'high school': np.float64(0.172352011241876),\n",
       " 'more than high school but not college': np.float64(0.24588090637625154),\n",
       " 'college': np.float64(0.47974705779026877)}"
      ]
     },
     "execution_count": 8,
     "metadata": {},
     "output_type": "execute_result"
    }
   ],
   "source": [
    "import pandas as pd\n",
    "\n",
    "df = pd.read_csv('assets/NISPUF17.csv')\n",
    "\n",
    "def proportion_of_education():\n",
    "    mother_education_proportion = df['EDUC1'].value_counts(normalize=True)\n",
    "    \n",
    "    proportions = {\n",
    "        \"less than high school\": mother_education_proportion.loc[1],\n",
    "        \"high school\": mother_education_proportion.loc[2],\n",
    "        \"more than high school but not college\": mother_education_proportion.loc[3],\n",
    "        \"college\": mother_education_proportion.loc[4]\n",
    "    }\n",
    "\n",
    "    return proportions\n",
    "\n",
    "proportion_of_education()"
   ]
  },
  {
   "cell_type": "code",
   "execution_count": 9,
   "metadata": {},
   "outputs": [],
   "source": [
    "# example of test cases\n",
    "assert type(proportion_of_education()) == type({}), \"You must return a dictionary.\"\n",
    "assert (\n",
    "    len(proportion_of_education()) == 4\n",
    "), \"You have not returned a dictionary with four items in it.\""
   ]
  },
  {
   "cell_type": "markdown",
   "metadata": {},
   "source": [
    "## Problem 2.2\n",
    "\n",
    "Let's explore the relationship between being _fed breastmilk_ as a child and getting a seasonal _influenza vaccine_ from a healthcare provider. Return a __tuple__ of the _average number of influenza vaccines_ for those children we know received breastmilk as a child and those who know did not.\n",
    "\n",
    "This _function_ should return a __tuple__ in the form (use the _correct numbers_):\n",
    "\n",
    "```python\n",
    "(2.5, 0.1)\n",
    "```"
   ]
  },
  {
   "cell_type": "code",
   "execution_count": 10,
   "metadata": {},
   "outputs": [
    {
     "data": {
      "text/plain": [
       "(np.float64(1.8799187420058687), np.float64(1.5963945918878317))"
      ]
     },
     "execution_count": 10,
     "metadata": {},
     "output_type": "execute_result"
    }
   ],
   "source": [
    "import pandas as pd\n",
    "\n",
    "df = pd.read_csv('assets/NISPUF17.csv')\n",
    "\n",
    "def average_influenza_doses():\n",
    "    doses = (df.query('CBF_01 == 1')['P_NUMFLU'].mean(), df.query('CBF_01 == 2')['P_NUMFLU'].mean())\n",
    "\n",
    "    return doses\n",
    "\n",
    "average_influenza_doses()"
   ]
  },
  {
   "cell_type": "code",
   "execution_count": 11,
   "metadata": {},
   "outputs": [],
   "source": [
    "# example of test cases\n",
    "assert (\n",
    "    len(average_influenza_doses()) == 2\n",
    "), \"Return two values in a tuple, the first for yes and the second for no.\""
   ]
  },
  {
   "cell_type": "markdown",
   "metadata": {},
   "source": [
    "## Problem 2.3\n",
    "\n",
    "It would be interesting to see if there is any evidence of a link between _vaccine effectiveness_ and _sex of the child_. Calculate the _ratio of the number of children_ who contracted __chickenpox__ but _were vaccinated against it_ (at least one varicella dose) versus those who were vaccinated but did not contract _chicken pox_. Return results by _sex_.\n",
    "\n",
    "This _function_ should return a __dictionary__ in the form of (use the _correct numbers_):\n",
    "\n",
    "```python\n",
    "{\n",
    "    \"male\":0.2,\n",
    "    \"female\":0.4\n",
    "}\n",
    "```\n",
    "\n",
    "_Note:_ To aid in verification, the `chickenpox_by_sex()['female']` value the autograder is looking for starts with the digits `0.0077`.\n"
   ]
  },
  {
   "cell_type": "code",
   "execution_count": 12,
   "metadata": {},
   "outputs": [
    {
     "data": {
      "text/plain": [
       "{'male': np.float64(0.009553245293621804),\n",
       " 'female': np.float64(0.007706848916678785)}"
      ]
     },
     "execution_count": 12,
     "metadata": {},
     "output_type": "execute_result"
    }
   ],
   "source": [
    "import pandas as pd\n",
    "\n",
    "df = pd.read_csv('assets/NISPUF17.csv')\n",
    "\n",
    "def chickenpox_by_sex():\n",
    "    stats = {\n",
    "        \"male\": df.query('SEX == 1 and HAD_CPOX == 1 and P_NUMVRC >= 1')['SEQNUMC'].count()/df.query('SEX == 1 and P_NUMVRC >= 1')['SEQNUMC'].count(),\n",
    "        \"female\": df.query('SEX == 2 and HAD_CPOX == 1 and P_NUMVRC >= 1')['SEQNUMC'].count()/df.query('SEX == 2 and P_NUMVRC >= 1')['SEQNUMC'].count()\n",
    "    }\n",
    "\n",
    "    return stats\n",
    "\n",
    "chickenpox_by_sex()"
   ]
  },
  {
   "cell_type": "markdown",
   "metadata": {},
   "source": [
    "## Problem 2.4\n",
    "\n",
    "A __correlation__ is a _statistical relationship_ between two variables. If we wanted to know _if vaccines work_, we might look at the correlation between the use of the vaccine and whether it results in prevention of the infection or disease. In this task, you are to see if there is a correlation between _having had the chicken pox_ and the _number of chickenpox vaccine doses given_ (varicella).\n",
    "\n",
    "Some notes on interpreting the answer. The `had_chickenpox_column` is either $1$ (for _yes_) or $2$ (for _no_), and the `num_chickenpox_vaccine_column` is the number of doses a child has been given of the varicella vaccine. A _positive correlation_ (e.g., $corr > 0$) means that an increase in _had\\_chickenpox\\_column_ (which means more _no_’s) would also increase the values of _num\\_chickenpox\\_vaccine\\_column_ (which means _more doses of vaccine_). If there is a _negative correlation_ (e.g., $corr < 0$), it indicates that having had chickenpox is related to an increase in the number of vaccine doses.\n",
    "\n",
    "Also, $pval$ is the probability that we observe a correlation between _had\\_chickenpox\\_column_ and _num\\_chickenpox\\_vaccine\\_column_ which is greater than or equal to a particular value occurred by chance. A _small pval_ means that the observed correlation is highly unlikely to occur by chance. In this case, _pval_ should be very small (will end in $e-18$ indicating a very small number)."
   ]
  },
  {
   "cell_type": "code",
   "execution_count": 72,
   "metadata": {},
   "outputs": [
    {
     "data": {
      "text/plain": [
       "np.float64(0.0034753171515293493)"
      ]
     },
     "execution_count": 72,
     "metadata": {},
     "output_type": "execute_result"
    }
   ],
   "source": [
    "import scipy.stats as stats\n",
    "import pandas as pd\n",
    "\n",
    "def corr_chickenpox():\n",
    "    num_vrc_join_had_cpox = df[['P_NUMVRC']].dropna().join(df[['HAD_CPOX']])\n",
    "\n",
    "    df2 = pd.DataFrame(\n",
    "        {\n",
    "            \"had_chickenpox_column\": num_vrc_join_had_cpox['HAD_CPOX'],\n",
    "            \"num_chickenpox_vaccine_column\": num_vrc_join_had_cpox['P_NUMVRC'],\n",
    "        }\n",
    "    )\n",
    "\n",
    "    # here is some stub code to actually run the correlation\n",
    "    corr, pval = stats.pearsonr(\n",
    "        df2[\"had_chickenpox_column\"], df2[\"num_chickenpox_vaccine_column\"]\n",
    "    )\n",
    "    \n",
    "    return corr\n",
    "\n",
    "corr_chickenpox()"
   ]
  },
  {
   "cell_type": "code",
   "execution_count": 74,
   "metadata": {},
   "outputs": [],
   "source": [
    "# example of test cases\n",
    "assert (\n",
    "    -1 <= corr_chickenpox() <= 1\n",
    "), \"You must return a float number between -1.0 and 1.0.\""
   ]
  }
 ],
 "metadata": {
  "kernelspec": {
   "display_name": "data_science_course",
   "language": "python",
   "name": "python3"
  },
  "language_info": {
   "codemirror_mode": {
    "name": "ipython",
    "version": 3
   },
   "file_extension": ".py",
   "mimetype": "text/x-python",
   "name": "python",
   "nbconvert_exporter": "python",
   "pygments_lexer": "ipython3",
   "version": "3.11.4"
  }
 },
 "nbformat": 4,
 "nbformat_minor": 2
}
